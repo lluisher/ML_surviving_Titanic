{
 "cells": [
  {
   "cell_type": "markdown",
   "id": "80efd5b9-69e1-418d-8af4-5eb4802108d7",
   "metadata": {
    "jp-MarkdownHeadingCollapsed": true,
    "tags": []
   },
   "source": [
    "# DATA"
   ]
  },
  {
   "cell_type": "code",
   "execution_count": 1,
   "id": "7053a21a-60b1-438e-9804-d4bf3e0077a9",
   "metadata": {},
   "outputs": [
    {
     "data": {
      "text/html": [
       "<div>\n",
       "<style scoped>\n",
       "    .dataframe tbody tr th:only-of-type {\n",
       "        vertical-align: middle;\n",
       "    }\n",
       "\n",
       "    .dataframe tbody tr th {\n",
       "        vertical-align: top;\n",
       "    }\n",
       "\n",
       "    .dataframe thead th {\n",
       "        text-align: right;\n",
       "    }\n",
       "</style>\n",
       "<table border=\"1\" class=\"dataframe\">\n",
       "  <thead>\n",
       "    <tr style=\"text-align: right;\">\n",
       "      <th></th>\n",
       "      <th>PassengerId</th>\n",
       "      <th>Survived</th>\n",
       "      <th>Pclass</th>\n",
       "      <th>Name</th>\n",
       "      <th>Sex</th>\n",
       "      <th>Age</th>\n",
       "      <th>SibSp</th>\n",
       "      <th>Parch</th>\n",
       "      <th>Ticket</th>\n",
       "      <th>Fare</th>\n",
       "      <th>Cabin</th>\n",
       "      <th>Embarked</th>\n",
       "    </tr>\n",
       "  </thead>\n",
       "  <tbody>\n",
       "    <tr>\n",
       "      <th>0</th>\n",
       "      <td>1</td>\n",
       "      <td>0</td>\n",
       "      <td>3</td>\n",
       "      <td>Braund, Mr. Owen Harris</td>\n",
       "      <td>male</td>\n",
       "      <td>22.0</td>\n",
       "      <td>1</td>\n",
       "      <td>0</td>\n",
       "      <td>A/5 21171</td>\n",
       "      <td>7.2500</td>\n",
       "      <td>NaN</td>\n",
       "      <td>S</td>\n",
       "    </tr>\n",
       "    <tr>\n",
       "      <th>1</th>\n",
       "      <td>2</td>\n",
       "      <td>1</td>\n",
       "      <td>1</td>\n",
       "      <td>Cumings, Mrs. John Bradley (Florence Briggs Th...</td>\n",
       "      <td>female</td>\n",
       "      <td>38.0</td>\n",
       "      <td>1</td>\n",
       "      <td>0</td>\n",
       "      <td>PC 17599</td>\n",
       "      <td>71.2833</td>\n",
       "      <td>C85</td>\n",
       "      <td>C</td>\n",
       "    </tr>\n",
       "    <tr>\n",
       "      <th>2</th>\n",
       "      <td>3</td>\n",
       "      <td>1</td>\n",
       "      <td>3</td>\n",
       "      <td>Heikkinen, Miss. Laina</td>\n",
       "      <td>female</td>\n",
       "      <td>26.0</td>\n",
       "      <td>0</td>\n",
       "      <td>0</td>\n",
       "      <td>STON/O2. 3101282</td>\n",
       "      <td>7.9250</td>\n",
       "      <td>NaN</td>\n",
       "      <td>S</td>\n",
       "    </tr>\n",
       "    <tr>\n",
       "      <th>3</th>\n",
       "      <td>4</td>\n",
       "      <td>1</td>\n",
       "      <td>1</td>\n",
       "      <td>Futrelle, Mrs. Jacques Heath (Lily May Peel)</td>\n",
       "      <td>female</td>\n",
       "      <td>35.0</td>\n",
       "      <td>1</td>\n",
       "      <td>0</td>\n",
       "      <td>113803</td>\n",
       "      <td>53.1000</td>\n",
       "      <td>C123</td>\n",
       "      <td>S</td>\n",
       "    </tr>\n",
       "    <tr>\n",
       "      <th>4</th>\n",
       "      <td>5</td>\n",
       "      <td>0</td>\n",
       "      <td>3</td>\n",
       "      <td>Allen, Mr. William Henry</td>\n",
       "      <td>male</td>\n",
       "      <td>35.0</td>\n",
       "      <td>0</td>\n",
       "      <td>0</td>\n",
       "      <td>373450</td>\n",
       "      <td>8.0500</td>\n",
       "      <td>NaN</td>\n",
       "      <td>S</td>\n",
       "    </tr>\n",
       "  </tbody>\n",
       "</table>\n",
       "</div>"
      ],
      "text/plain": [
       "   PassengerId  Survived  Pclass  \\\n",
       "0            1         0       3   \n",
       "1            2         1       1   \n",
       "2            3         1       3   \n",
       "3            4         1       1   \n",
       "4            5         0       3   \n",
       "\n",
       "                                                Name     Sex   Age  SibSp  \\\n",
       "0                            Braund, Mr. Owen Harris    male  22.0      1   \n",
       "1  Cumings, Mrs. John Bradley (Florence Briggs Th...  female  38.0      1   \n",
       "2                             Heikkinen, Miss. Laina  female  26.0      0   \n",
       "3       Futrelle, Mrs. Jacques Heath (Lily May Peel)  female  35.0      1   \n",
       "4                           Allen, Mr. William Henry    male  35.0      0   \n",
       "\n",
       "   Parch            Ticket     Fare Cabin Embarked  \n",
       "0      0         A/5 21171   7.2500   NaN        S  \n",
       "1      0          PC 17599  71.2833   C85        C  \n",
       "2      0  STON/O2. 3101282   7.9250   NaN        S  \n",
       "3      0            113803  53.1000  C123        S  \n",
       "4      0            373450   8.0500   NaN        S  "
      ]
     },
     "execution_count": 1,
     "metadata": {},
     "output_type": "execute_result"
    }
   ],
   "source": [
    "import matplotlib.pyplot as plt\n",
    "import numpy as np\n",
    "import pandas as pd\n",
    "import seaborn as sns\n",
    "%matplotlib inline\n",
    "\n",
    "titanic = pd.read_csv('train.csv')\n",
    "titanic.head()"
   ]
  },
  {
   "cell_type": "code",
   "execution_count": 2,
   "id": "46dd1341-eb82-419d-b921-623f5f5b1e00",
   "metadata": {},
   "outputs": [
    {
     "data": {
      "text/html": [
       "<div>\n",
       "<style scoped>\n",
       "    .dataframe tbody tr th:only-of-type {\n",
       "        vertical-align: middle;\n",
       "    }\n",
       "\n",
       "    .dataframe tbody tr th {\n",
       "        vertical-align: top;\n",
       "    }\n",
       "\n",
       "    .dataframe thead th {\n",
       "        text-align: right;\n",
       "    }\n",
       "</style>\n",
       "<table border=\"1\" class=\"dataframe\">\n",
       "  <thead>\n",
       "    <tr style=\"text-align: right;\">\n",
       "      <th></th>\n",
       "      <th>PassengerId</th>\n",
       "      <th>Survived</th>\n",
       "      <th>Pclass</th>\n",
       "      <th>Age</th>\n",
       "      <th>SibSp</th>\n",
       "      <th>Parch</th>\n",
       "      <th>Fare</th>\n",
       "    </tr>\n",
       "  </thead>\n",
       "  <tbody>\n",
       "    <tr>\n",
       "      <th>count</th>\n",
       "      <td>891.000000</td>\n",
       "      <td>891.000000</td>\n",
       "      <td>891.000000</td>\n",
       "      <td>714.000000</td>\n",
       "      <td>891.000000</td>\n",
       "      <td>891.000000</td>\n",
       "      <td>891.000000</td>\n",
       "    </tr>\n",
       "    <tr>\n",
       "      <th>mean</th>\n",
       "      <td>446.000000</td>\n",
       "      <td>0.383838</td>\n",
       "      <td>2.308642</td>\n",
       "      <td>29.699118</td>\n",
       "      <td>0.523008</td>\n",
       "      <td>0.381594</td>\n",
       "      <td>32.204208</td>\n",
       "    </tr>\n",
       "    <tr>\n",
       "      <th>std</th>\n",
       "      <td>257.353842</td>\n",
       "      <td>0.486592</td>\n",
       "      <td>0.836071</td>\n",
       "      <td>14.526497</td>\n",
       "      <td>1.102743</td>\n",
       "      <td>0.806057</td>\n",
       "      <td>49.693429</td>\n",
       "    </tr>\n",
       "    <tr>\n",
       "      <th>min</th>\n",
       "      <td>1.000000</td>\n",
       "      <td>0.000000</td>\n",
       "      <td>1.000000</td>\n",
       "      <td>0.420000</td>\n",
       "      <td>0.000000</td>\n",
       "      <td>0.000000</td>\n",
       "      <td>0.000000</td>\n",
       "    </tr>\n",
       "    <tr>\n",
       "      <th>25%</th>\n",
       "      <td>223.500000</td>\n",
       "      <td>0.000000</td>\n",
       "      <td>2.000000</td>\n",
       "      <td>20.125000</td>\n",
       "      <td>0.000000</td>\n",
       "      <td>0.000000</td>\n",
       "      <td>7.910400</td>\n",
       "    </tr>\n",
       "    <tr>\n",
       "      <th>50%</th>\n",
       "      <td>446.000000</td>\n",
       "      <td>0.000000</td>\n",
       "      <td>3.000000</td>\n",
       "      <td>28.000000</td>\n",
       "      <td>0.000000</td>\n",
       "      <td>0.000000</td>\n",
       "      <td>14.454200</td>\n",
       "    </tr>\n",
       "    <tr>\n",
       "      <th>75%</th>\n",
       "      <td>668.500000</td>\n",
       "      <td>1.000000</td>\n",
       "      <td>3.000000</td>\n",
       "      <td>38.000000</td>\n",
       "      <td>1.000000</td>\n",
       "      <td>0.000000</td>\n",
       "      <td>31.000000</td>\n",
       "    </tr>\n",
       "    <tr>\n",
       "      <th>max</th>\n",
       "      <td>891.000000</td>\n",
       "      <td>1.000000</td>\n",
       "      <td>3.000000</td>\n",
       "      <td>80.000000</td>\n",
       "      <td>8.000000</td>\n",
       "      <td>6.000000</td>\n",
       "      <td>512.329200</td>\n",
       "    </tr>\n",
       "  </tbody>\n",
       "</table>\n",
       "</div>"
      ],
      "text/plain": [
       "       PassengerId    Survived      Pclass         Age       SibSp  \\\n",
       "count   891.000000  891.000000  891.000000  714.000000  891.000000   \n",
       "mean    446.000000    0.383838    2.308642   29.699118    0.523008   \n",
       "std     257.353842    0.486592    0.836071   14.526497    1.102743   \n",
       "min       1.000000    0.000000    1.000000    0.420000    0.000000   \n",
       "25%     223.500000    0.000000    2.000000   20.125000    0.000000   \n",
       "50%     446.000000    0.000000    3.000000   28.000000    0.000000   \n",
       "75%     668.500000    1.000000    3.000000   38.000000    1.000000   \n",
       "max     891.000000    1.000000    3.000000   80.000000    8.000000   \n",
       "\n",
       "            Parch        Fare  \n",
       "count  891.000000  891.000000  \n",
       "mean     0.381594   32.204208  \n",
       "std      0.806057   49.693429  \n",
       "min      0.000000    0.000000  \n",
       "25%      0.000000    7.910400  \n",
       "50%      0.000000   14.454200  \n",
       "75%      0.000000   31.000000  \n",
       "max      6.000000  512.329200  "
      ]
     },
     "execution_count": 2,
     "metadata": {},
     "output_type": "execute_result"
    }
   ],
   "source": [
    "titanic.describe()"
   ]
  },
  {
   "cell_type": "code",
   "execution_count": 3,
   "id": "ce03ff85-9336-4607-8228-93fa4dfaf4e8",
   "metadata": {},
   "outputs": [
    {
     "name": "stdout",
     "output_type": "stream",
     "text": [
      "<class 'pandas.core.frame.DataFrame'>\n",
      "RangeIndex: 891 entries, 0 to 890\n",
      "Data columns (total 12 columns):\n",
      " #   Column       Non-Null Count  Dtype  \n",
      "---  ------       --------------  -----  \n",
      " 0   PassengerId  891 non-null    int64  \n",
      " 1   Survived     891 non-null    int64  \n",
      " 2   Pclass       891 non-null    int64  \n",
      " 3   Name         891 non-null    object \n",
      " 4   Sex          891 non-null    object \n",
      " 5   Age          714 non-null    float64\n",
      " 6   SibSp        891 non-null    int64  \n",
      " 7   Parch        891 non-null    int64  \n",
      " 8   Ticket       891 non-null    object \n",
      " 9   Fare         891 non-null    float64\n",
      " 10  Cabin        204 non-null    object \n",
      " 11  Embarked     889 non-null    object \n",
      "dtypes: float64(2), int64(5), object(5)\n",
      "memory usage: 83.7+ KB\n"
     ]
    }
   ],
   "source": [
    "titanic.info()"
   ]
  },
  {
   "cell_type": "code",
   "execution_count": 4,
   "id": "4708b6c5-0267-4033-9955-baddc4b885a1",
   "metadata": {},
   "outputs": [
    {
     "data": {
      "text/plain": [
       "PassengerId      0\n",
       "Survived         0\n",
       "Pclass           0\n",
       "Name             0\n",
       "Sex              0\n",
       "Age            177\n",
       "SibSp            0\n",
       "Parch            0\n",
       "Ticket           0\n",
       "Fare             0\n",
       "Cabin          687\n",
       "Embarked         2\n",
       "dtype: int64"
      ]
     },
     "execution_count": 4,
     "metadata": {},
     "output_type": "execute_result"
    }
   ],
   "source": [
    "titanic.isnull().sum()"
   ]
  },
  {
   "cell_type": "code",
   "execution_count": null,
   "id": "22e1aeb1-3b9c-470a-a111-1bab7b847fcb",
   "metadata": {},
   "outputs": [],
   "source": []
  },
  {
   "cell_type": "markdown",
   "id": "c4f43b5b-9031-482e-96a7-f8975a4ca2b1",
   "metadata": {
    "jp-MarkdownHeadingCollapsed": true,
    "tags": []
   },
   "source": [
    "# CLEAN DATA"
   ]
  },
  {
   "cell_type": "markdown",
   "id": "ce09b40f-94de-408b-8f5b-d0185675c086",
   "metadata": {
    "jp-MarkdownHeadingCollapsed": true,
    "tags": []
   },
   "source": [
    "## Continuous variables"
   ]
  },
  {
   "cell_type": "code",
   "execution_count": 5,
   "id": "8f25961b-b7e7-4187-bfe0-01bfc28944f5",
   "metadata": {},
   "outputs": [],
   "source": [
    "titanic['Age'].fillna(titanic['Age'].mean(), inplace=True)"
   ]
  },
  {
   "cell_type": "code",
   "execution_count": 6,
   "id": "065637f0-bef6-4e13-a926-54ba388df036",
   "metadata": {},
   "outputs": [],
   "source": [
    "titanic.drop(['PassengerId'], axis=1, inplace=True)"
   ]
  },
  {
   "cell_type": "markdown",
   "id": "eede4f29-08e2-4c77-af59-1b8cdf25d0db",
   "metadata": {
    "jp-MarkdownHeadingCollapsed": true,
    "tags": []
   },
   "source": [
    "## Categorical data"
   ]
  },
  {
   "cell_type": "code",
   "execution_count": 7,
   "id": "32c74edd-bf51-4118-bb13-03a7af0600ab",
   "metadata": {},
   "outputs": [
    {
     "data": {
      "text/plain": [
       "Cabin\n",
       "False    0.666667\n",
       "True     0.299854\n",
       "Name: Survived, dtype: float64"
      ]
     },
     "execution_count": 7,
     "metadata": {},
     "output_type": "execute_result"
    }
   ],
   "source": [
    "titanic.groupby(titanic['Cabin'].isnull())['Survived'].mean()"
   ]
  },
  {
   "cell_type": "code",
   "execution_count": 8,
   "id": "c82d9645-0e90-4832-88c8-d10c34e384e0",
   "metadata": {},
   "outputs": [],
   "source": [
    "titanic['Cabin_ind'] = np.where(titanic['Cabin'].isnull(), 0, 1)"
   ]
  },
  {
   "cell_type": "code",
   "execution_count": 9,
   "id": "09872e09-04be-419f-9946-45d68e89221f",
   "metadata": {},
   "outputs": [],
   "source": [
    "gender_num = {'male': 0, 'female': 1}\n",
    "\n",
    "titanic['Sex'] = titanic['Sex'].map(gender_num)"
   ]
  },
  {
   "cell_type": "code",
   "execution_count": 10,
   "id": "c5cdfd68-1147-4767-b70b-c56c0213932d",
   "metadata": {},
   "outputs": [],
   "source": [
    "titanic.drop(['Cabin', 'Embarked', 'Name', 'Ticket'], axis=1, inplace=True)"
   ]
  },
  {
   "cell_type": "code",
   "execution_count": 11,
   "id": "a2cada96-cb03-49b9-a837-fceca1f3d799",
   "metadata": {},
   "outputs": [
    {
     "data": {
      "text/html": [
       "<div>\n",
       "<style scoped>\n",
       "    .dataframe tbody tr th:only-of-type {\n",
       "        vertical-align: middle;\n",
       "    }\n",
       "\n",
       "    .dataframe tbody tr th {\n",
       "        vertical-align: top;\n",
       "    }\n",
       "\n",
       "    .dataframe thead th {\n",
       "        text-align: right;\n",
       "    }\n",
       "</style>\n",
       "<table border=\"1\" class=\"dataframe\">\n",
       "  <thead>\n",
       "    <tr style=\"text-align: right;\">\n",
       "      <th></th>\n",
       "      <th>Survived</th>\n",
       "      <th>Pclass</th>\n",
       "      <th>Sex</th>\n",
       "      <th>Age</th>\n",
       "      <th>SibSp</th>\n",
       "      <th>Parch</th>\n",
       "      <th>Fare</th>\n",
       "      <th>Cabin_ind</th>\n",
       "    </tr>\n",
       "  </thead>\n",
       "  <tbody>\n",
       "    <tr>\n",
       "      <th>0</th>\n",
       "      <td>0</td>\n",
       "      <td>3</td>\n",
       "      <td>0</td>\n",
       "      <td>22.0</td>\n",
       "      <td>1</td>\n",
       "      <td>0</td>\n",
       "      <td>7.2500</td>\n",
       "      <td>0</td>\n",
       "    </tr>\n",
       "    <tr>\n",
       "      <th>1</th>\n",
       "      <td>1</td>\n",
       "      <td>1</td>\n",
       "      <td>1</td>\n",
       "      <td>38.0</td>\n",
       "      <td>1</td>\n",
       "      <td>0</td>\n",
       "      <td>71.2833</td>\n",
       "      <td>1</td>\n",
       "    </tr>\n",
       "    <tr>\n",
       "      <th>2</th>\n",
       "      <td>1</td>\n",
       "      <td>3</td>\n",
       "      <td>1</td>\n",
       "      <td>26.0</td>\n",
       "      <td>0</td>\n",
       "      <td>0</td>\n",
       "      <td>7.9250</td>\n",
       "      <td>0</td>\n",
       "    </tr>\n",
       "    <tr>\n",
       "      <th>3</th>\n",
       "      <td>1</td>\n",
       "      <td>1</td>\n",
       "      <td>1</td>\n",
       "      <td>35.0</td>\n",
       "      <td>1</td>\n",
       "      <td>0</td>\n",
       "      <td>53.1000</td>\n",
       "      <td>1</td>\n",
       "    </tr>\n",
       "    <tr>\n",
       "      <th>4</th>\n",
       "      <td>0</td>\n",
       "      <td>3</td>\n",
       "      <td>0</td>\n",
       "      <td>35.0</td>\n",
       "      <td>0</td>\n",
       "      <td>0</td>\n",
       "      <td>8.0500</td>\n",
       "      <td>0</td>\n",
       "    </tr>\n",
       "  </tbody>\n",
       "</table>\n",
       "</div>"
      ],
      "text/plain": [
       "   Survived  Pclass  Sex   Age  SibSp  Parch     Fare  Cabin_ind\n",
       "0         0       3    0  22.0      1      0   7.2500          0\n",
       "1         1       1    1  38.0      1      0  71.2833          1\n",
       "2         1       3    1  26.0      0      0   7.9250          0\n",
       "3         1       1    1  35.0      1      0  53.1000          1\n",
       "4         0       3    0  35.0      0      0   8.0500          0"
      ]
     },
     "execution_count": 11,
     "metadata": {},
     "output_type": "execute_result"
    }
   ],
   "source": [
    "titanic.head()"
   ]
  },
  {
   "cell_type": "code",
   "execution_count": null,
   "id": "fa3bd977-1349-4b3f-b192-9eaca2b979fe",
   "metadata": {},
   "outputs": [],
   "source": []
  },
  {
   "cell_type": "markdown",
   "id": "fb7cff2a-2ba4-4984-8def-1d7dddacd179",
   "metadata": {
    "jp-MarkdownHeadingCollapsed": true,
    "tags": []
   },
   "source": [
    "# TRAINING AND VALIDATION"
   ]
  },
  {
   "cell_type": "code",
   "execution_count": 12,
   "id": "898f0181-4c80-43a2-9ddf-6c692f321591",
   "metadata": {},
   "outputs": [],
   "source": [
    "from sklearn.model_selection import train_test_split\n",
    "from sklearn.model_selection import GridSearchCV\n",
    "import warnings\n",
    "warnings.filterwarnings('ignore')\n",
    "import joblib"
   ]
  },
  {
   "cell_type": "markdown",
   "id": "be953b52-ac0f-425e-a5fe-86dae27a794b",
   "metadata": {
    "jp-MarkdownHeadingCollapsed": true,
    "tags": []
   },
   "source": [
    "## Split Data"
   ]
  },
  {
   "cell_type": "code",
   "execution_count": 13,
   "id": "d3761778-7ebc-4223-927f-4b7800434dc0",
   "metadata": {},
   "outputs": [
    {
     "name": "stdout",
     "output_type": "stream",
     "text": [
      "0.75\n",
      "0.25\n"
     ]
    }
   ],
   "source": [
    "features = titanic.drop('Survived', axis=1)\n",
    "labels = titanic['Survived']\n",
    "\n",
    "X_train, X_val, y_train, y_val = train_test_split(features, labels, test_size=0.25, random_state=42)\n",
    "\n",
    "for dataset in [y_train, y_val]:\n",
    "    print(round(len(dataset) / len(labels), 2))"
   ]
  },
  {
   "cell_type": "code",
   "execution_count": 14,
   "id": "3c6688a9-f437-41aa-a57e-01df70f646bf",
   "metadata": {},
   "outputs": [],
   "source": [
    "def print_results(results):\n",
    "    print('BEST PARAMS: {}\\n'.format(results.best_params_))\n",
    "\n",
    "    means = results.cv_results_['mean_test_score']\n",
    "    stds = results.cv_results_['std_test_score']\n",
    "    for mean, std, params in zip(means, stds, results.cv_results_['params']):\n",
    "        print('{} (+/-{}) for {}'.format(round(mean, 3), round(std * 2, 3), params))"
   ]
  },
  {
   "cell_type": "markdown",
   "id": "88e463b6-1a0c-47ee-afc8-4e9d9f19f683",
   "metadata": {
    "tags": []
   },
   "source": [
    "## Algorithms"
   ]
  },
  {
   "cell_type": "markdown",
   "id": "7f84343d-abc3-4f82-8d27-57852d3760bf",
   "metadata": {
    "jp-MarkdownHeadingCollapsed": true,
    "tags": []
   },
   "source": [
    "### Logistic Regression"
   ]
  },
  {
   "cell_type": "code",
   "execution_count": 15,
   "id": "36967293-6fd8-47fd-958d-1864cfe8d629",
   "metadata": {},
   "outputs": [],
   "source": [
    "from sklearn.linear_model import LogisticRegression\n",
    "\n",
    "#?LogisticRegression\n",
    "\n",
    "#dir(LogisticRegression)"
   ]
  },
  {
   "cell_type": "code",
   "execution_count": 16,
   "id": "7576edcd-4480-4e91-aaec-ac42362c8eb2",
   "metadata": {},
   "outputs": [
    {
     "name": "stdout",
     "output_type": "stream",
     "text": [
      "BEST PARAMS: {'C': 1000}\n",
      "\n",
      "0.666 (+/-0.045) for {'C': 0.001}\n",
      "0.717 (+/-0.084) for {'C': 0.01}\n",
      "0.79 (+/-0.085) for {'C': 0.1}\n",
      "0.792 (+/-0.072) for {'C': 1}\n",
      "0.79 (+/-0.07) for {'C': 10}\n",
      "0.792 (+/-0.064) for {'C': 100}\n",
      "0.793 (+/-0.067) for {'C': 1000}\n",
      "0.792 (+/-0.064) for {'C': 10000}\n"
     ]
    },
    {
     "data": {
      "text/plain": [
       "LogisticRegression(C=1000)"
      ]
     },
     "execution_count": 16,
     "metadata": {},
     "output_type": "execute_result"
    }
   ],
   "source": [
    "lr = LogisticRegression()\n",
    "parameters = {\n",
    "    'C': [0.001, 0.01, 0.1, 1, 10, 100, 1000, 10000]\n",
    "}\n",
    "\n",
    "cv = GridSearchCV(lr, parameters, cv=5)\n",
    "cv.fit(X_train, y_train.values.ravel())\n",
    "\n",
    "print_results(cv)\n",
    "\n",
    "cv.best_estimator_"
   ]
  },
  {
   "cell_type": "code",
   "execution_count": 17,
   "id": "2ba080fa-45bf-4b7b-8d45-94df413891fc",
   "metadata": {},
   "outputs": [
    {
     "data": {
      "text/plain": [
       "['LR_model.pkl']"
      ]
     },
     "execution_count": 17,
     "metadata": {},
     "output_type": "execute_result"
    }
   ],
   "source": [
    "joblib.dump(cv.best_estimator_, 'LR_model.pkl')"
   ]
  },
  {
   "cell_type": "code",
   "execution_count": null,
   "id": "7900243a-1794-4a4a-8640-b19b992a1f5c",
   "metadata": {},
   "outputs": [],
   "source": []
  },
  {
   "cell_type": "markdown",
   "id": "2737c4bd-ab2a-4fe8-bb3c-372c2c436af0",
   "metadata": {
    "jp-MarkdownHeadingCollapsed": true,
    "tags": []
   },
   "source": [
    "### Support Vector Machines"
   ]
  },
  {
   "cell_type": "code",
   "execution_count": 18,
   "id": "f7eb6a1a-dd65-4db7-af07-01c83b0ec009",
   "metadata": {},
   "outputs": [],
   "source": [
    "from sklearn.svm import SVC\n",
    "\n",
    "#?SVC\n",
    "\n",
    "#dir(LogisticRegression)"
   ]
  },
  {
   "cell_type": "code",
   "execution_count": 19,
   "id": "8b6633b6-95b1-488d-9817-1292d5b2d4e7",
   "metadata": {},
   "outputs": [
    {
     "name": "stdout",
     "output_type": "stream",
     "text": [
      "BEST PARAMS: {'C': 0.1, 'kernel': 'linear'}\n",
      "\n",
      "0.729 (+/-0.071) for {'C': 0.01, 'kernel': 'linear'}\n",
      "0.621 (+/-0.005) for {'C': 0.01, 'kernel': 'rbf'}\n",
      "0.787 (+/-0.083) for {'C': 0.1, 'kernel': 'linear'}\n",
      "0.663 (+/-0.062) for {'C': 0.1, 'kernel': 'rbf'}\n",
      "0.787 (+/-0.083) for {'C': 1, 'kernel': 'linear'}\n",
      "0.665 (+/-0.061) for {'C': 1, 'kernel': 'rbf'}\n",
      "0.786 (+/-0.078) for {'C': 10, 'kernel': 'linear'}\n",
      "0.693 (+/-0.064) for {'C': 10, 'kernel': 'rbf'}\n"
     ]
    },
    {
     "data": {
      "text/plain": [
       "SVC(C=0.1, kernel='linear')"
      ]
     },
     "execution_count": 19,
     "metadata": {},
     "output_type": "execute_result"
    }
   ],
   "source": [
    "svc = SVC()\n",
    "parameters = {\n",
    "    'kernel': ['linear', 'rbf'],\n",
    "    'C': [0.01, 0.1, 1, 10]\n",
    "}\n",
    "\n",
    "cv = GridSearchCV(svc, parameters, cv=5)\n",
    "cv.fit(X_train, y_train.values.ravel())\n",
    "\n",
    "print_results(cv)\n",
    "\n",
    "cv.best_estimator_"
   ]
  },
  {
   "cell_type": "code",
   "execution_count": null,
   "id": "726d93b2-5940-4a67-bdc1-818ff36fc56b",
   "metadata": {},
   "outputs": [],
   "source": []
  },
  {
   "cell_type": "code",
   "execution_count": 20,
   "id": "212e1cf2-7e56-45ce-952c-d0f3eb0b80e8",
   "metadata": {},
   "outputs": [
    {
     "data": {
      "text/plain": [
       "['SVM_model.pkl']"
      ]
     },
     "execution_count": 20,
     "metadata": {},
     "output_type": "execute_result"
    }
   ],
   "source": [
    "joblib.dump(cv.best_estimator_, 'SVM_model.pkl')"
   ]
  },
  {
   "cell_type": "markdown",
   "id": "0e6e292f-0a2b-4e51-a3c3-dc77dc731628",
   "metadata": {
    "jp-MarkdownHeadingCollapsed": true,
    "tags": []
   },
   "source": [
    "### Multilayer Perceptron Algorithm"
   ]
  },
  {
   "cell_type": "code",
   "execution_count": 21,
   "id": "55b08386-03ed-41e1-8cc5-8b61f94648e4",
   "metadata": {},
   "outputs": [],
   "source": [
    "from sklearn.neural_network import MLPClassifier"
   ]
  },
  {
   "cell_type": "code",
   "execution_count": 22,
   "id": "047215f8-ac2f-4331-83cd-9c55521f25c9",
   "metadata": {},
   "outputs": [
    {
     "name": "stdout",
     "output_type": "stream",
     "text": [
      "BEST PARAMS: {'activation': 'relu', 'hidden_layer_sizes': (50,), 'learning_rate': 'invscaling'}\n",
      "\n",
      "0.736 (+/-0.068) for {'activation': 'relu', 'hidden_layer_sizes': (10,), 'learning_rate': 'constant'}\n",
      "0.72 (+/-0.108) for {'activation': 'relu', 'hidden_layer_sizes': (10,), 'learning_rate': 'invscaling'}\n",
      "0.723 (+/-0.102) for {'activation': 'relu', 'hidden_layer_sizes': (10,), 'learning_rate': 'adaptive'}\n",
      "0.784 (+/-0.074) for {'activation': 'relu', 'hidden_layer_sizes': (50,), 'learning_rate': 'constant'}\n",
      "0.796 (+/-0.089) for {'activation': 'relu', 'hidden_layer_sizes': (50,), 'learning_rate': 'invscaling'}\n",
      "0.781 (+/-0.099) for {'activation': 'relu', 'hidden_layer_sizes': (50,), 'learning_rate': 'adaptive'}\n",
      "0.793 (+/-0.085) for {'activation': 'relu', 'hidden_layer_sizes': (100,), 'learning_rate': 'constant'}\n",
      "0.79 (+/-0.065) for {'activation': 'relu', 'hidden_layer_sizes': (100,), 'learning_rate': 'invscaling'}\n",
      "0.792 (+/-0.062) for {'activation': 'relu', 'hidden_layer_sizes': (100,), 'learning_rate': 'adaptive'}\n",
      "0.748 (+/-0.115) for {'activation': 'tanh', 'hidden_layer_sizes': (10,), 'learning_rate': 'constant'}\n",
      "0.741 (+/-0.053) for {'activation': 'tanh', 'hidden_layer_sizes': (10,), 'learning_rate': 'invscaling'}\n",
      "0.757 (+/-0.087) for {'activation': 'tanh', 'hidden_layer_sizes': (10,), 'learning_rate': 'adaptive'}\n",
      "0.789 (+/-0.068) for {'activation': 'tanh', 'hidden_layer_sizes': (50,), 'learning_rate': 'constant'}\n",
      "0.787 (+/-0.059) for {'activation': 'tanh', 'hidden_layer_sizes': (50,), 'learning_rate': 'invscaling'}\n",
      "0.789 (+/-0.058) for {'activation': 'tanh', 'hidden_layer_sizes': (50,), 'learning_rate': 'adaptive'}\n",
      "0.78 (+/-0.05) for {'activation': 'tanh', 'hidden_layer_sizes': (100,), 'learning_rate': 'constant'}\n",
      "0.793 (+/-0.061) for {'activation': 'tanh', 'hidden_layer_sizes': (100,), 'learning_rate': 'invscaling'}\n",
      "0.792 (+/-0.053) for {'activation': 'tanh', 'hidden_layer_sizes': (100,), 'learning_rate': 'adaptive'}\n",
      "0.711 (+/-0.085) for {'activation': 'logistic', 'hidden_layer_sizes': (10,), 'learning_rate': 'constant'}\n",
      "0.738 (+/-0.072) for {'activation': 'logistic', 'hidden_layer_sizes': (10,), 'learning_rate': 'invscaling'}\n",
      "0.73 (+/-0.061) for {'activation': 'logistic', 'hidden_layer_sizes': (10,), 'learning_rate': 'adaptive'}\n",
      "0.778 (+/-0.045) for {'activation': 'logistic', 'hidden_layer_sizes': (50,), 'learning_rate': 'constant'}\n",
      "0.765 (+/-0.065) for {'activation': 'logistic', 'hidden_layer_sizes': (50,), 'learning_rate': 'invscaling'}\n",
      "0.783 (+/-0.055) for {'activation': 'logistic', 'hidden_layer_sizes': (50,), 'learning_rate': 'adaptive'}\n",
      "0.786 (+/-0.064) for {'activation': 'logistic', 'hidden_layer_sizes': (100,), 'learning_rate': 'constant'}\n",
      "0.789 (+/-0.075) for {'activation': 'logistic', 'hidden_layer_sizes': (100,), 'learning_rate': 'invscaling'}\n",
      "0.789 (+/-0.075) for {'activation': 'logistic', 'hidden_layer_sizes': (100,), 'learning_rate': 'adaptive'}\n"
     ]
    },
    {
     "data": {
      "text/plain": [
       "MLPClassifier(hidden_layer_sizes=(50,), learning_rate='invscaling')"
      ]
     },
     "execution_count": 22,
     "metadata": {},
     "output_type": "execute_result"
    }
   ],
   "source": [
    "mlp = MLPClassifier()\n",
    "parameters = {\n",
    "    'hidden_layer_sizes': [(10,), (50,), (100,)],\n",
    "    'activation': ['relu', 'tanh', 'logistic'],\n",
    "    'learning_rate': ['constant', 'invscaling', 'adaptive']\n",
    "}\n",
    "\n",
    "cv = GridSearchCV(mlp, parameters, cv=5)\n",
    "cv.fit(X_train, y_train.values.ravel())\n",
    "\n",
    "print_results(cv)\n",
    "\n",
    "cv.best_estimator_"
   ]
  },
  {
   "cell_type": "code",
   "execution_count": null,
   "id": "b4745099-469a-4b5b-ac85-8b8e3d6d5c41",
   "metadata": {},
   "outputs": [],
   "source": []
  },
  {
   "cell_type": "code",
   "execution_count": 23,
   "id": "e202763a-0c08-4327-ac0a-fbfef72d73cc",
   "metadata": {},
   "outputs": [
    {
     "data": {
      "text/plain": [
       "['MLP_model.pkl']"
      ]
     },
     "execution_count": 23,
     "metadata": {},
     "output_type": "execute_result"
    }
   ],
   "source": [
    "joblib.dump(cv.best_estimator_, 'MLP_model.pkl')"
   ]
  },
  {
   "cell_type": "markdown",
   "id": "c91a3c48-175b-45ae-9a82-4d9b6b363514",
   "metadata": {
    "jp-MarkdownHeadingCollapsed": true,
    "tags": []
   },
   "source": [
    "### Random Forest"
   ]
  },
  {
   "cell_type": "code",
   "execution_count": 24,
   "id": "1305a1da-46c4-4afa-98ba-c4afc6d472b5",
   "metadata": {},
   "outputs": [],
   "source": [
    "from sklearn.ensemble import RandomForestClassifier"
   ]
  },
  {
   "cell_type": "code",
   "execution_count": null,
   "id": "f443385c-d46a-44d0-861d-833fb56e45b3",
   "metadata": {},
   "outputs": [],
   "source": []
  },
  {
   "cell_type": "code",
   "execution_count": 25,
   "id": "f38ea4aa-bf92-49b6-91e8-83590eaab2bd",
   "metadata": {},
   "outputs": [
    {
     "name": "stdout",
     "output_type": "stream",
     "text": [
      "BEST PARAMS: {'max_depth': 8, 'n_estimators': 50}\n",
      "\n",
      "0.781 (+/-0.063) for {'max_depth': 2, 'n_estimators': 5}\n",
      "0.789 (+/-0.055) for {'max_depth': 2, 'n_estimators': 50}\n",
      "0.786 (+/-0.075) for {'max_depth': 2, 'n_estimators': 250}\n",
      "0.793 (+/-0.051) for {'max_depth': 4, 'n_estimators': 5}\n",
      "0.811 (+/-0.062) for {'max_depth': 4, 'n_estimators': 50}\n",
      "0.802 (+/-0.073) for {'max_depth': 4, 'n_estimators': 250}\n",
      "0.82 (+/-0.063) for {'max_depth': 8, 'n_estimators': 5}\n",
      "0.822 (+/-0.077) for {'max_depth': 8, 'n_estimators': 50}\n",
      "0.817 (+/-0.075) for {'max_depth': 8, 'n_estimators': 250}\n",
      "0.807 (+/-0.052) for {'max_depth': 16, 'n_estimators': 5}\n",
      "0.817 (+/-0.044) for {'max_depth': 16, 'n_estimators': 50}\n",
      "0.808 (+/-0.072) for {'max_depth': 16, 'n_estimators': 250}\n",
      "0.792 (+/-0.071) for {'max_depth': 32, 'n_estimators': 5}\n",
      "0.805 (+/-0.048) for {'max_depth': 32, 'n_estimators': 50}\n",
      "0.799 (+/-0.071) for {'max_depth': 32, 'n_estimators': 250}\n",
      "0.792 (+/-0.076) for {'max_depth': None, 'n_estimators': 5}\n",
      "0.805 (+/-0.045) for {'max_depth': None, 'n_estimators': 50}\n",
      "0.798 (+/-0.062) for {'max_depth': None, 'n_estimators': 250}\n"
     ]
    }
   ],
   "source": [
    "rf = RandomForestClassifier()\n",
    "parameters = {\n",
    "    'n_estimators': [5, 50, 250],\n",
    "    'max_depth': [2, 4, 8, 16, 32, None]\n",
    "}\n",
    "\n",
    "cv = GridSearchCV(rf, parameters, cv=5)\n",
    "cv.fit(X_train, y_train.values.ravel())\n",
    "\n",
    "print_results(cv)"
   ]
  },
  {
   "cell_type": "code",
   "execution_count": 26,
   "id": "cc5c1640-bf25-4a9c-a90f-fb4f833953e3",
   "metadata": {},
   "outputs": [
    {
     "data": {
      "text/plain": [
       "['RF_model.pkl']"
      ]
     },
     "execution_count": 26,
     "metadata": {},
     "output_type": "execute_result"
    }
   ],
   "source": [
    "joblib.dump(cv.best_estimator_, 'RF_model.pkl')"
   ]
  },
  {
   "cell_type": "code",
   "execution_count": null,
   "id": "7fc06c01-ddd8-4eef-a425-3f2d63bb5ec5",
   "metadata": {},
   "outputs": [],
   "source": []
  },
  {
   "cell_type": "markdown",
   "id": "5a75355d-5786-4091-b11f-deb331c12467",
   "metadata": {
    "jp-MarkdownHeadingCollapsed": true,
    "tags": []
   },
   "source": [
    "### Boosted Trees"
   ]
  },
  {
   "cell_type": "code",
   "execution_count": 27,
   "id": "eaa47ae6-0c01-4ac8-90b8-3607f4bff554",
   "metadata": {},
   "outputs": [],
   "source": [
    "from sklearn.ensemble import GradientBoostingClassifier"
   ]
  },
  {
   "cell_type": "code",
   "execution_count": 28,
   "id": "57c5b53b-c877-47df-a6e2-7b3af3e6728f",
   "metadata": {},
   "outputs": [
    {
     "name": "stdout",
     "output_type": "stream",
     "text": [
      "BEST PARAMS: {'learning_rate': 0.01, 'max_depth': 3, 'n_estimators': 250}\n",
      "\n",
      "0.621 (+/-0.005) for {'learning_rate': 0.01, 'max_depth': 1, 'n_estimators': 5}\n",
      "0.787 (+/-0.083) for {'learning_rate': 0.01, 'max_depth': 1, 'n_estimators': 50}\n",
      "0.787 (+/-0.083) for {'learning_rate': 0.01, 'max_depth': 1, 'n_estimators': 250}\n",
      "0.795 (+/-0.085) for {'learning_rate': 0.01, 'max_depth': 1, 'n_estimators': 500}\n",
      "0.621 (+/-0.005) for {'learning_rate': 0.01, 'max_depth': 3, 'n_estimators': 5}\n",
      "0.799 (+/-0.044) for {'learning_rate': 0.01, 'max_depth': 3, 'n_estimators': 50}\n",
      "0.817 (+/-0.07) for {'learning_rate': 0.01, 'max_depth': 3, 'n_estimators': 250}\n",
      "0.814 (+/-0.057) for {'learning_rate': 0.01, 'max_depth': 3, 'n_estimators': 500}\n",
      "0.621 (+/-0.005) for {'learning_rate': 0.01, 'max_depth': 5, 'n_estimators': 5}\n",
      "0.787 (+/-0.069) for {'learning_rate': 0.01, 'max_depth': 5, 'n_estimators': 50}\n",
      "0.804 (+/-0.069) for {'learning_rate': 0.01, 'max_depth': 5, 'n_estimators': 250}\n",
      "0.808 (+/-0.064) for {'learning_rate': 0.01, 'max_depth': 5, 'n_estimators': 500}\n",
      "0.621 (+/-0.005) for {'learning_rate': 0.01, 'max_depth': 7, 'n_estimators': 5}\n",
      "0.78 (+/-0.042) for {'learning_rate': 0.01, 'max_depth': 7, 'n_estimators': 50}\n",
      "0.807 (+/-0.07) for {'learning_rate': 0.01, 'max_depth': 7, 'n_estimators': 250}\n",
      "0.798 (+/-0.064) for {'learning_rate': 0.01, 'max_depth': 7, 'n_estimators': 500}\n",
      "0.621 (+/-0.005) for {'learning_rate': 0.01, 'max_depth': 9, 'n_estimators': 5}\n",
      "0.787 (+/-0.04) for {'learning_rate': 0.01, 'max_depth': 9, 'n_estimators': 50}\n",
      "0.801 (+/-0.056) for {'learning_rate': 0.01, 'max_depth': 9, 'n_estimators': 250}\n",
      "0.788 (+/-0.071) for {'learning_rate': 0.01, 'max_depth': 9, 'n_estimators': 500}\n",
      "0.787 (+/-0.083) for {'learning_rate': 0.1, 'max_depth': 1, 'n_estimators': 5}\n",
      "0.802 (+/-0.084) for {'learning_rate': 0.1, 'max_depth': 1, 'n_estimators': 50}\n",
      "0.813 (+/-0.063) for {'learning_rate': 0.1, 'max_depth': 1, 'n_estimators': 250}\n",
      "0.81 (+/-0.083) for {'learning_rate': 0.1, 'max_depth': 1, 'n_estimators': 500}\n",
      "0.801 (+/-0.044) for {'learning_rate': 0.1, 'max_depth': 3, 'n_estimators': 5}\n",
      "0.814 (+/-0.05) for {'learning_rate': 0.1, 'max_depth': 3, 'n_estimators': 50}\n",
      "0.808 (+/-0.064) for {'learning_rate': 0.1, 'max_depth': 3, 'n_estimators': 250}\n",
      "0.802 (+/-0.052) for {'learning_rate': 0.1, 'max_depth': 3, 'n_estimators': 500}\n",
      "0.789 (+/-0.07) for {'learning_rate': 0.1, 'max_depth': 5, 'n_estimators': 5}\n",
      "0.801 (+/-0.074) for {'learning_rate': 0.1, 'max_depth': 5, 'n_estimators': 50}\n",
      "0.793 (+/-0.052) for {'learning_rate': 0.1, 'max_depth': 5, 'n_estimators': 250}\n",
      "0.796 (+/-0.046) for {'learning_rate': 0.1, 'max_depth': 5, 'n_estimators': 500}\n",
      "0.786 (+/-0.05) for {'learning_rate': 0.1, 'max_depth': 7, 'n_estimators': 5}\n",
      "0.798 (+/-0.057) for {'learning_rate': 0.1, 'max_depth': 7, 'n_estimators': 50}\n",
      "0.799 (+/-0.048) for {'learning_rate': 0.1, 'max_depth': 7, 'n_estimators': 250}\n",
      "0.792 (+/-0.041) for {'learning_rate': 0.1, 'max_depth': 7, 'n_estimators': 500}\n",
      "0.787 (+/-0.054) for {'learning_rate': 0.1, 'max_depth': 9, 'n_estimators': 5}\n",
      "0.792 (+/-0.058) for {'learning_rate': 0.1, 'max_depth': 9, 'n_estimators': 50}\n",
      "0.792 (+/-0.037) for {'learning_rate': 0.1, 'max_depth': 9, 'n_estimators': 250}\n",
      "0.787 (+/-0.048) for {'learning_rate': 0.1, 'max_depth': 9, 'n_estimators': 500}\n",
      "0.784 (+/-0.059) for {'learning_rate': 1, 'max_depth': 1, 'n_estimators': 5}\n",
      "0.813 (+/-0.077) for {'learning_rate': 1, 'max_depth': 1, 'n_estimators': 50}\n",
      "0.81 (+/-0.046) for {'learning_rate': 1, 'max_depth': 1, 'n_estimators': 250}\n",
      "0.804 (+/-0.029) for {'learning_rate': 1, 'max_depth': 1, 'n_estimators': 500}\n",
      "0.787 (+/-0.061) for {'learning_rate': 1, 'max_depth': 3, 'n_estimators': 5}\n",
      "0.795 (+/-0.048) for {'learning_rate': 1, 'max_depth': 3, 'n_estimators': 50}\n",
      "0.789 (+/-0.023) for {'learning_rate': 1, 'max_depth': 3, 'n_estimators': 250}\n",
      "0.79 (+/-0.033) for {'learning_rate': 1, 'max_depth': 3, 'n_estimators': 500}\n",
      "0.794 (+/-0.083) for {'learning_rate': 1, 'max_depth': 5, 'n_estimators': 5}\n",
      "0.799 (+/-0.054) for {'learning_rate': 1, 'max_depth': 5, 'n_estimators': 50}\n",
      "0.793 (+/-0.02) for {'learning_rate': 1, 'max_depth': 5, 'n_estimators': 250}\n",
      "0.799 (+/-0.016) for {'learning_rate': 1, 'max_depth': 5, 'n_estimators': 500}\n",
      "0.783 (+/-0.044) for {'learning_rate': 1, 'max_depth': 7, 'n_estimators': 5}\n",
      "0.79 (+/-0.056) for {'learning_rate': 1, 'max_depth': 7, 'n_estimators': 50}\n",
      "0.798 (+/-0.032) for {'learning_rate': 1, 'max_depth': 7, 'n_estimators': 250}\n",
      "0.784 (+/-0.048) for {'learning_rate': 1, 'max_depth': 7, 'n_estimators': 500}\n",
      "0.768 (+/-0.047) for {'learning_rate': 1, 'max_depth': 9, 'n_estimators': 5}\n",
      "0.798 (+/-0.061) for {'learning_rate': 1, 'max_depth': 9, 'n_estimators': 50}\n",
      "0.804 (+/-0.044) for {'learning_rate': 1, 'max_depth': 9, 'n_estimators': 250}\n",
      "0.798 (+/-0.048) for {'learning_rate': 1, 'max_depth': 9, 'n_estimators': 500}\n",
      "0.213 (+/-0.083) for {'learning_rate': 10, 'max_depth': 1, 'n_estimators': 5}\n",
      "0.213 (+/-0.083) for {'learning_rate': 10, 'max_depth': 1, 'n_estimators': 50}\n",
      "0.213 (+/-0.083) for {'learning_rate': 10, 'max_depth': 1, 'n_estimators': 250}\n",
      "0.213 (+/-0.083) for {'learning_rate': 10, 'max_depth': 1, 'n_estimators': 500}\n",
      "0.418 (+/-0.356) for {'learning_rate': 10, 'max_depth': 3, 'n_estimators': 5}\n",
      "0.418 (+/-0.356) for {'learning_rate': 10, 'max_depth': 3, 'n_estimators': 50}\n",
      "0.418 (+/-0.356) for {'learning_rate': 10, 'max_depth': 3, 'n_estimators': 250}\n",
      "0.418 (+/-0.356) for {'learning_rate': 10, 'max_depth': 3, 'n_estimators': 500}\n",
      "0.446 (+/-0.185) for {'learning_rate': 10, 'max_depth': 5, 'n_estimators': 5}\n",
      "0.458 (+/-0.137) for {'learning_rate': 10, 'max_depth': 5, 'n_estimators': 50}\n",
      "0.456 (+/-0.138) for {'learning_rate': 10, 'max_depth': 5, 'n_estimators': 250}\n",
      "0.443 (+/-0.148) for {'learning_rate': 10, 'max_depth': 5, 'n_estimators': 500}\n",
      "0.518 (+/-0.124) for {'learning_rate': 10, 'max_depth': 7, 'n_estimators': 5}\n",
      "0.482 (+/-0.065) for {'learning_rate': 10, 'max_depth': 7, 'n_estimators': 50}\n",
      "0.515 (+/-0.084) for {'learning_rate': 10, 'max_depth': 7, 'n_estimators': 250}\n",
      "0.498 (+/-0.103) for {'learning_rate': 10, 'max_depth': 7, 'n_estimators': 500}\n",
      "0.612 (+/-0.079) for {'learning_rate': 10, 'max_depth': 9, 'n_estimators': 5}\n",
      "0.626 (+/-0.102) for {'learning_rate': 10, 'max_depth': 9, 'n_estimators': 50}\n",
      "0.62 (+/-0.11) for {'learning_rate': 10, 'max_depth': 9, 'n_estimators': 250}\n",
      "0.635 (+/-0.098) for {'learning_rate': 10, 'max_depth': 9, 'n_estimators': 500}\n",
      "0.379 (+/-0.005) for {'learning_rate': 100, 'max_depth': 1, 'n_estimators': 5}\n",
      "0.379 (+/-0.005) for {'learning_rate': 100, 'max_depth': 1, 'n_estimators': 50}\n",
      "0.379 (+/-0.005) for {'learning_rate': 100, 'max_depth': 1, 'n_estimators': 250}\n",
      "0.379 (+/-0.005) for {'learning_rate': 100, 'max_depth': 1, 'n_estimators': 500}\n",
      "0.329 (+/-0.096) for {'learning_rate': 100, 'max_depth': 3, 'n_estimators': 5}\n",
      "0.329 (+/-0.096) for {'learning_rate': 100, 'max_depth': 3, 'n_estimators': 50}\n",
      "0.329 (+/-0.096) for {'learning_rate': 100, 'max_depth': 3, 'n_estimators': 250}\n",
      "0.329 (+/-0.096) for {'learning_rate': 100, 'max_depth': 3, 'n_estimators': 500}\n",
      "0.371 (+/-0.135) for {'learning_rate': 100, 'max_depth': 5, 'n_estimators': 5}\n",
      "0.373 (+/-0.13) for {'learning_rate': 100, 'max_depth': 5, 'n_estimators': 50}\n",
      "0.374 (+/-0.133) for {'learning_rate': 100, 'max_depth': 5, 'n_estimators': 250}\n",
      "0.371 (+/-0.135) for {'learning_rate': 100, 'max_depth': 5, 'n_estimators': 500}\n",
      "0.512 (+/-0.124) for {'learning_rate': 100, 'max_depth': 7, 'n_estimators': 5}\n",
      "0.469 (+/-0.16) for {'learning_rate': 100, 'max_depth': 7, 'n_estimators': 50}\n",
      "0.488 (+/-0.129) for {'learning_rate': 100, 'max_depth': 7, 'n_estimators': 250}\n",
      "0.497 (+/-0.134) for {'learning_rate': 100, 'max_depth': 7, 'n_estimators': 500}\n",
      "0.587 (+/-0.131) for {'learning_rate': 100, 'max_depth': 9, 'n_estimators': 5}\n",
      "0.57 (+/-0.13) for {'learning_rate': 100, 'max_depth': 9, 'n_estimators': 50}\n",
      "0.563 (+/-0.096) for {'learning_rate': 100, 'max_depth': 9, 'n_estimators': 250}\n",
      "0.588 (+/-0.151) for {'learning_rate': 100, 'max_depth': 9, 'n_estimators': 500}\n"
     ]
    }
   ],
   "source": [
    "gb = GradientBoostingClassifier()\n",
    "parameters = {\n",
    "    'n_estimators': [5, 50, 250, 500],\n",
    "    'max_depth': [1, 3, 5, 7, 9],\n",
    "    'learning_rate': [0.01, 0.1, 1, 10, 100]\n",
    "}\n",
    "\n",
    "cv = GridSearchCV(gb, parameters, cv=5)\n",
    "cv.fit(X_train, y_train.values.ravel())\n",
    "\n",
    "print_results(cv)"
   ]
  },
  {
   "cell_type": "code",
   "execution_count": null,
   "id": "b3505abd-e72e-4912-b623-f9be6a592ff7",
   "metadata": {},
   "outputs": [],
   "source": []
  },
  {
   "cell_type": "code",
   "execution_count": 29,
   "id": "b1a7b810-e946-4e69-b36e-0dcd2cc5531e",
   "metadata": {},
   "outputs": [
    {
     "data": {
      "text/plain": [
       "['GB_model.pkl']"
      ]
     },
     "execution_count": 29,
     "metadata": {},
     "output_type": "execute_result"
    }
   ],
   "source": [
    "joblib.dump(cv.best_estimator_, 'GB_model.pkl')"
   ]
  },
  {
   "cell_type": "code",
   "execution_count": null,
   "id": "f70cb24d-b91f-4fbc-9175-5a862b6b3f98",
   "metadata": {},
   "outputs": [],
   "source": []
  },
  {
   "cell_type": "code",
   "execution_count": null,
   "id": "6fc45870-be33-4cce-a935-1a8a2590d8de",
   "metadata": {},
   "outputs": [],
   "source": []
  },
  {
   "cell_type": "markdown",
   "id": "f78b091e-800e-4d78-ba0f-be28daeb4dfe",
   "metadata": {
    "jp-MarkdownHeadingCollapsed": true,
    "tags": []
   },
   "source": [
    "## Validation"
   ]
  },
  {
   "cell_type": "code",
   "execution_count": 30,
   "id": "58e3eea6-aad0-4601-94e0-a9df8c9be4dc",
   "metadata": {},
   "outputs": [],
   "source": [
    "from sklearn.metrics import accuracy_score, precision_score, recall_score\n",
    "from time import time"
   ]
  },
  {
   "cell_type": "code",
   "execution_count": 31,
   "id": "a12c9741-83c6-4de0-b163-a795f684eebf",
   "metadata": {},
   "outputs": [],
   "source": [
    "models = {}\n",
    "\n",
    "for mdl in ['LR', 'SVM', 'MLP', 'RF', 'GB']:\n",
    "    models[mdl] = joblib.load('{}_model.pkl'.format(mdl))"
   ]
  },
  {
   "cell_type": "code",
   "execution_count": null,
   "id": "152a9d46-a698-4d4a-86ae-19d5bf0c5e01",
   "metadata": {},
   "outputs": [],
   "source": []
  },
  {
   "cell_type": "code",
   "execution_count": 32,
   "id": "03677643-4bcd-4df1-ae18-bd7a0c71aa22",
   "metadata": {},
   "outputs": [],
   "source": [
    "def evaluate_model(name, model, features, labels):\n",
    "    start = time()\n",
    "    pred = model.predict(features)\n",
    "    end = time()\n",
    "    accuracy = round(accuracy_score(labels, pred), 3)\n",
    "    precision = round(precision_score(labels, pred), 3)\n",
    "    recall = round(recall_score(labels, pred), 3)\n",
    "    print('{} -- Accuracy: {} / Precision: {} / Recall: {} / Latency: {}ms'.format(name,\n",
    "                                                                                   accuracy,\n",
    "                                                                                   precision,\n",
    "                                                                                   recall,\n",
    "                                                                                   round((end - start)*1000, 1)))"
   ]
  },
  {
   "cell_type": "code",
   "execution_count": 33,
   "id": "476c85c2-de4d-4924-aecf-2f120df74e2e",
   "metadata": {},
   "outputs": [
    {
     "name": "stdout",
     "output_type": "stream",
     "text": [
      "LR -- Accuracy: 0.821 / Precision: 0.795 / Recall: 0.742 / Latency: 1.0ms\n",
      "SVM -- Accuracy: 0.785 / Precision: 0.741 / Recall: 0.708 / Latency: 2.0ms\n",
      "MLP -- Accuracy: 0.807 / Precision: 0.774 / Recall: 0.73 / Latency: 0.9ms\n",
      "RF -- Accuracy: 0.812 / Precision: 0.822 / Recall: 0.674 / Latency: 3.9ms\n",
      "GB -- Accuracy: 0.812 / Precision: 0.805 / Recall: 0.697 / Latency: 1.3ms\n"
     ]
    }
   ],
   "source": [
    "for name, mdl in models.items():\n",
    "    evaluate_model(name, mdl, X_val, y_val)"
   ]
  },
  {
   "cell_type": "code",
   "execution_count": null,
   "id": "6edb02d0-b143-4627-ab08-8d8d78774367",
   "metadata": {},
   "outputs": [],
   "source": []
  },
  {
   "cell_type": "markdown",
   "id": "041c8f0c-6ceb-4e6f-a165-5e4bdb4935ba",
   "metadata": {
    "jp-MarkdownHeadingCollapsed": true,
    "tags": []
   },
   "source": [
    "# TEST"
   ]
  },
  {
   "cell_type": "code",
   "execution_count": null,
   "id": "4228c326-8c5b-423e-a11c-0a51b92c8829",
   "metadata": {},
   "outputs": [],
   "source": []
  },
  {
   "cell_type": "code",
   "execution_count": 34,
   "id": "3c7072cd-1f49-4bab-ae97-063e7db7a68e",
   "metadata": {},
   "outputs": [
    {
     "data": {
      "text/html": [
       "<div>\n",
       "<style scoped>\n",
       "    .dataframe tbody tr th:only-of-type {\n",
       "        vertical-align: middle;\n",
       "    }\n",
       "\n",
       "    .dataframe tbody tr th {\n",
       "        vertical-align: top;\n",
       "    }\n",
       "\n",
       "    .dataframe thead th {\n",
       "        text-align: right;\n",
       "    }\n",
       "</style>\n",
       "<table border=\"1\" class=\"dataframe\">\n",
       "  <thead>\n",
       "    <tr style=\"text-align: right;\">\n",
       "      <th></th>\n",
       "      <th>PassengerId</th>\n",
       "      <th>Pclass</th>\n",
       "      <th>Name</th>\n",
       "      <th>Sex</th>\n",
       "      <th>Age</th>\n",
       "      <th>SibSp</th>\n",
       "      <th>Parch</th>\n",
       "      <th>Ticket</th>\n",
       "      <th>Fare</th>\n",
       "      <th>Cabin</th>\n",
       "      <th>Embarked</th>\n",
       "    </tr>\n",
       "  </thead>\n",
       "  <tbody>\n",
       "    <tr>\n",
       "      <th>0</th>\n",
       "      <td>892</td>\n",
       "      <td>3</td>\n",
       "      <td>Kelly, Mr. James</td>\n",
       "      <td>male</td>\n",
       "      <td>34.5</td>\n",
       "      <td>0</td>\n",
       "      <td>0</td>\n",
       "      <td>330911</td>\n",
       "      <td>7.8292</td>\n",
       "      <td>NaN</td>\n",
       "      <td>Q</td>\n",
       "    </tr>\n",
       "    <tr>\n",
       "      <th>1</th>\n",
       "      <td>893</td>\n",
       "      <td>3</td>\n",
       "      <td>Wilkes, Mrs. James (Ellen Needs)</td>\n",
       "      <td>female</td>\n",
       "      <td>47.0</td>\n",
       "      <td>1</td>\n",
       "      <td>0</td>\n",
       "      <td>363272</td>\n",
       "      <td>7.0000</td>\n",
       "      <td>NaN</td>\n",
       "      <td>S</td>\n",
       "    </tr>\n",
       "    <tr>\n",
       "      <th>2</th>\n",
       "      <td>894</td>\n",
       "      <td>2</td>\n",
       "      <td>Myles, Mr. Thomas Francis</td>\n",
       "      <td>male</td>\n",
       "      <td>62.0</td>\n",
       "      <td>0</td>\n",
       "      <td>0</td>\n",
       "      <td>240276</td>\n",
       "      <td>9.6875</td>\n",
       "      <td>NaN</td>\n",
       "      <td>Q</td>\n",
       "    </tr>\n",
       "    <tr>\n",
       "      <th>3</th>\n",
       "      <td>895</td>\n",
       "      <td>3</td>\n",
       "      <td>Wirz, Mr. Albert</td>\n",
       "      <td>male</td>\n",
       "      <td>27.0</td>\n",
       "      <td>0</td>\n",
       "      <td>0</td>\n",
       "      <td>315154</td>\n",
       "      <td>8.6625</td>\n",
       "      <td>NaN</td>\n",
       "      <td>S</td>\n",
       "    </tr>\n",
       "    <tr>\n",
       "      <th>4</th>\n",
       "      <td>896</td>\n",
       "      <td>3</td>\n",
       "      <td>Hirvonen, Mrs. Alexander (Helga E Lindqvist)</td>\n",
       "      <td>female</td>\n",
       "      <td>22.0</td>\n",
       "      <td>1</td>\n",
       "      <td>1</td>\n",
       "      <td>3101298</td>\n",
       "      <td>12.2875</td>\n",
       "      <td>NaN</td>\n",
       "      <td>S</td>\n",
       "    </tr>\n",
       "  </tbody>\n",
       "</table>\n",
       "</div>"
      ],
      "text/plain": [
       "   PassengerId  Pclass                                          Name     Sex  \\\n",
       "0          892       3                              Kelly, Mr. James    male   \n",
       "1          893       3              Wilkes, Mrs. James (Ellen Needs)  female   \n",
       "2          894       2                     Myles, Mr. Thomas Francis    male   \n",
       "3          895       3                              Wirz, Mr. Albert    male   \n",
       "4          896       3  Hirvonen, Mrs. Alexander (Helga E Lindqvist)  female   \n",
       "\n",
       "    Age  SibSp  Parch   Ticket     Fare Cabin Embarked  \n",
       "0  34.5      0      0   330911   7.8292   NaN        Q  \n",
       "1  47.0      1      0   363272   7.0000   NaN        S  \n",
       "2  62.0      0      0   240276   9.6875   NaN        Q  \n",
       "3  27.0      0      0   315154   8.6625   NaN        S  \n",
       "4  22.0      1      1  3101298  12.2875   NaN        S  "
      ]
     },
     "execution_count": 34,
     "metadata": {},
     "output_type": "execute_result"
    }
   ],
   "source": [
    "titanic_test = pd.read_csv('test.csv')\n",
    "titanic_test.head()"
   ]
  },
  {
   "cell_type": "markdown",
   "id": "34dec41c-2ed6-4e4b-84f9-24f649e88d95",
   "metadata": {
    "jp-MarkdownHeadingCollapsed": true,
    "tags": []
   },
   "source": [
    "## Cleaning data in the same way as before"
   ]
  },
  {
   "cell_type": "code",
   "execution_count": 35,
   "id": "f34bd450-89ce-4d50-bf6b-96a4034ee540",
   "metadata": {},
   "outputs": [
    {
     "data": {
      "text/plain": [
       "PassengerId      0\n",
       "Pclass           0\n",
       "Name             0\n",
       "Sex              0\n",
       "Age             86\n",
       "SibSp            0\n",
       "Parch            0\n",
       "Ticket           0\n",
       "Fare             1\n",
       "Cabin          327\n",
       "Embarked         0\n",
       "dtype: int64"
      ]
     },
     "execution_count": 35,
     "metadata": {},
     "output_type": "execute_result"
    }
   ],
   "source": [
    "titanic_test.isnull().sum()"
   ]
  },
  {
   "cell_type": "code",
   "execution_count": 36,
   "id": "8f4e18e7-ca59-4cbe-8a0f-3ac080cead4d",
   "metadata": {},
   "outputs": [
    {
     "data": {
      "text/html": [
       "<div>\n",
       "<style scoped>\n",
       "    .dataframe tbody tr th:only-of-type {\n",
       "        vertical-align: middle;\n",
       "    }\n",
       "\n",
       "    .dataframe tbody tr th {\n",
       "        vertical-align: top;\n",
       "    }\n",
       "\n",
       "    .dataframe thead th {\n",
       "        text-align: right;\n",
       "    }\n",
       "</style>\n",
       "<table border=\"1\" class=\"dataframe\">\n",
       "  <thead>\n",
       "    <tr style=\"text-align: right;\">\n",
       "      <th></th>\n",
       "      <th>Pclass</th>\n",
       "      <th>Sex</th>\n",
       "      <th>Age</th>\n",
       "      <th>SibSp</th>\n",
       "      <th>Parch</th>\n",
       "      <th>Fare</th>\n",
       "      <th>Cabin_ind</th>\n",
       "    </tr>\n",
       "  </thead>\n",
       "  <tbody>\n",
       "    <tr>\n",
       "      <th>0</th>\n",
       "      <td>3</td>\n",
       "      <td>0</td>\n",
       "      <td>34.5</td>\n",
       "      <td>0</td>\n",
       "      <td>0</td>\n",
       "      <td>7.8292</td>\n",
       "      <td>0</td>\n",
       "    </tr>\n",
       "    <tr>\n",
       "      <th>1</th>\n",
       "      <td>3</td>\n",
       "      <td>1</td>\n",
       "      <td>47.0</td>\n",
       "      <td>1</td>\n",
       "      <td>0</td>\n",
       "      <td>7.0000</td>\n",
       "      <td>0</td>\n",
       "    </tr>\n",
       "    <tr>\n",
       "      <th>2</th>\n",
       "      <td>2</td>\n",
       "      <td>0</td>\n",
       "      <td>62.0</td>\n",
       "      <td>0</td>\n",
       "      <td>0</td>\n",
       "      <td>9.6875</td>\n",
       "      <td>0</td>\n",
       "    </tr>\n",
       "    <tr>\n",
       "      <th>3</th>\n",
       "      <td>3</td>\n",
       "      <td>0</td>\n",
       "      <td>27.0</td>\n",
       "      <td>0</td>\n",
       "      <td>0</td>\n",
       "      <td>8.6625</td>\n",
       "      <td>0</td>\n",
       "    </tr>\n",
       "    <tr>\n",
       "      <th>4</th>\n",
       "      <td>3</td>\n",
       "      <td>1</td>\n",
       "      <td>22.0</td>\n",
       "      <td>1</td>\n",
       "      <td>1</td>\n",
       "      <td>12.2875</td>\n",
       "      <td>0</td>\n",
       "    </tr>\n",
       "  </tbody>\n",
       "</table>\n",
       "</div>"
      ],
      "text/plain": [
       "   Pclass  Sex   Age  SibSp  Parch     Fare  Cabin_ind\n",
       "0       3    0  34.5      0      0   7.8292          0\n",
       "1       3    1  47.0      1      0   7.0000          0\n",
       "2       2    0  62.0      0      0   9.6875          0\n",
       "3       3    0  27.0      0      0   8.6625          0\n",
       "4       3    1  22.0      1      1  12.2875          0"
      ]
     },
     "execution_count": 36,
     "metadata": {},
     "output_type": "execute_result"
    }
   ],
   "source": [
    "titanic_test['Age'].fillna(titanic_test['Age'].mean(), inplace=True)\n",
    "titanic_test['Fare'].fillna(titanic_test['Fare'].median(), inplace=True)\n",
    "titanic_test.drop(['PassengerId'], axis=1, inplace=True)\n",
    "titanic_test['Cabin_ind'] = np.where(titanic_test['Cabin'].isnull(), 0, 1)\n",
    "titanic_test['Sex'] = titanic_test['Sex'].map(gender_num)\n",
    "titanic_test.drop(['Cabin', 'Embarked', 'Name', 'Ticket'], axis=1, inplace=True)\n",
    "titanic_test.head()"
   ]
  },
  {
   "cell_type": "code",
   "execution_count": 37,
   "id": "7ec9f38f-b3ad-4a60-ab25-61c335cb4c96",
   "metadata": {},
   "outputs": [
    {
     "data": {
      "text/plain": [
       "Pclass       0\n",
       "Sex          0\n",
       "Age          0\n",
       "SibSp        0\n",
       "Parch        0\n",
       "Fare         0\n",
       "Cabin_ind    0\n",
       "dtype: int64"
      ]
     },
     "execution_count": 37,
     "metadata": {},
     "output_type": "execute_result"
    }
   ],
   "source": [
    "titanic_test.isnull().sum()"
   ]
  },
  {
   "cell_type": "markdown",
   "id": "fe140d83-a026-4fe1-9d2c-b91aa3b82953",
   "metadata": {
    "tags": []
   },
   "source": [
    "## Generating prediction"
   ]
  },
  {
   "cell_type": "code",
   "execution_count": 38,
   "id": "bffb3ca9-e9b5-4e48-afd3-b81390e50cbf",
   "metadata": {},
   "outputs": [],
   "source": [
    "best_model = joblib.load('LR_model.pkl')\n",
    "\n",
    "y_pred = best_model.predict(titanic_test)\n"
   ]
  },
  {
   "cell_type": "code",
   "execution_count": 39,
   "id": "70e7d5fc-58e4-4269-a94e-2e7ad7535d6c",
   "metadata": {},
   "outputs": [],
   "source": [
    "titanic_test = pd.read_csv('test.csv')"
   ]
  },
  {
   "cell_type": "code",
   "execution_count": 40,
   "id": "393a9eaf-547b-4a60-8775-7acb5979306f",
   "metadata": {},
   "outputs": [],
   "source": [
    "prediction = pd.DataFrame({\"PassengerId\": titanic_test[\"PassengerId\"],\n",
    "                   \"Survived\": y_pred\n",
    "                  })\n"
   ]
  },
  {
   "cell_type": "code",
   "execution_count": 41,
   "id": "94fd9766-331a-44e7-8f25-5712722e2614",
   "metadata": {},
   "outputs": [
    {
     "data": {
      "text/html": [
       "<div>\n",
       "<style scoped>\n",
       "    .dataframe tbody tr th:only-of-type {\n",
       "        vertical-align: middle;\n",
       "    }\n",
       "\n",
       "    .dataframe tbody tr th {\n",
       "        vertical-align: top;\n",
       "    }\n",
       "\n",
       "    .dataframe thead th {\n",
       "        text-align: right;\n",
       "    }\n",
       "</style>\n",
       "<table border=\"1\" class=\"dataframe\">\n",
       "  <thead>\n",
       "    <tr style=\"text-align: right;\">\n",
       "      <th></th>\n",
       "      <th>PassengerId</th>\n",
       "      <th>Survived</th>\n",
       "    </tr>\n",
       "  </thead>\n",
       "  <tbody>\n",
       "    <tr>\n",
       "      <th>0</th>\n",
       "      <td>892</td>\n",
       "      <td>0</td>\n",
       "    </tr>\n",
       "    <tr>\n",
       "      <th>1</th>\n",
       "      <td>893</td>\n",
       "      <td>0</td>\n",
       "    </tr>\n",
       "    <tr>\n",
       "      <th>2</th>\n",
       "      <td>894</td>\n",
       "      <td>0</td>\n",
       "    </tr>\n",
       "    <tr>\n",
       "      <th>3</th>\n",
       "      <td>895</td>\n",
       "      <td>0</td>\n",
       "    </tr>\n",
       "    <tr>\n",
       "      <th>4</th>\n",
       "      <td>896</td>\n",
       "      <td>1</td>\n",
       "    </tr>\n",
       "  </tbody>\n",
       "</table>\n",
       "</div>"
      ],
      "text/plain": [
       "   PassengerId  Survived\n",
       "0          892         0\n",
       "1          893         0\n",
       "2          894         0\n",
       "3          895         0\n",
       "4          896         1"
      ]
     },
     "execution_count": 41,
     "metadata": {},
     "output_type": "execute_result"
    }
   ],
   "source": [
    "prediction.head()"
   ]
  },
  {
   "cell_type": "code",
   "execution_count": 42,
   "id": "22e57709-cb6e-42eb-bc04-73e009995c66",
   "metadata": {},
   "outputs": [],
   "source": [
    "prediction.to_csv(\"submit_prediction.csv\", index=False)"
   ]
  },
  {
   "cell_type": "markdown",
   "id": "ef6542a2-44df-4a19-a09a-1b0649122cbc",
   "metadata": {
    "jp-MarkdownHeadingCollapsed": true,
    "tags": []
   },
   "source": [
    "## Check correct format"
   ]
  },
  {
   "cell_type": "code",
   "execution_count": 43,
   "id": "76cc75b3-3325-48cf-8bcd-40eed2c88c29",
   "metadata": {},
   "outputs": [
    {
     "data": {
      "text/html": [
       "<div>\n",
       "<style scoped>\n",
       "    .dataframe tbody tr th:only-of-type {\n",
       "        vertical-align: middle;\n",
       "    }\n",
       "\n",
       "    .dataframe tbody tr th {\n",
       "        vertical-align: top;\n",
       "    }\n",
       "\n",
       "    .dataframe thead th {\n",
       "        text-align: right;\n",
       "    }\n",
       "</style>\n",
       "<table border=\"1\" class=\"dataframe\">\n",
       "  <thead>\n",
       "    <tr style=\"text-align: right;\">\n",
       "      <th></th>\n",
       "      <th>PassengerId</th>\n",
       "      <th>Survived</th>\n",
       "    </tr>\n",
       "  </thead>\n",
       "  <tbody>\n",
       "    <tr>\n",
       "      <th>0</th>\n",
       "      <td>892</td>\n",
       "      <td>0</td>\n",
       "    </tr>\n",
       "    <tr>\n",
       "      <th>1</th>\n",
       "      <td>893</td>\n",
       "      <td>1</td>\n",
       "    </tr>\n",
       "    <tr>\n",
       "      <th>2</th>\n",
       "      <td>894</td>\n",
       "      <td>0</td>\n",
       "    </tr>\n",
       "    <tr>\n",
       "      <th>3</th>\n",
       "      <td>895</td>\n",
       "      <td>0</td>\n",
       "    </tr>\n",
       "    <tr>\n",
       "      <th>4</th>\n",
       "      <td>896</td>\n",
       "      <td>1</td>\n",
       "    </tr>\n",
       "  </tbody>\n",
       "</table>\n",
       "</div>"
      ],
      "text/plain": [
       "   PassengerId  Survived\n",
       "0          892         0\n",
       "1          893         1\n",
       "2          894         0\n",
       "3          895         0\n",
       "4          896         1"
      ]
     },
     "execution_count": 43,
     "metadata": {},
     "output_type": "execute_result"
    }
   ],
   "source": [
    "check = pd.read_csv('gender_submission.csv')\n",
    "check.head()"
   ]
  },
  {
   "cell_type": "code",
   "execution_count": 44,
   "id": "d5be4f04-6804-47b5-be7e-0f2e04cd6a19",
   "metadata": {},
   "outputs": [
    {
     "data": {
      "text/html": [
       "<div>\n",
       "<style scoped>\n",
       "    .dataframe tbody tr th:only-of-type {\n",
       "        vertical-align: middle;\n",
       "    }\n",
       "\n",
       "    .dataframe tbody tr th {\n",
       "        vertical-align: top;\n",
       "    }\n",
       "\n",
       "    .dataframe thead th {\n",
       "        text-align: right;\n",
       "    }\n",
       "</style>\n",
       "<table border=\"1\" class=\"dataframe\">\n",
       "  <thead>\n",
       "    <tr style=\"text-align: right;\">\n",
       "      <th></th>\n",
       "      <th>PassengerId</th>\n",
       "      <th>Survived</th>\n",
       "    </tr>\n",
       "  </thead>\n",
       "  <tbody>\n",
       "    <tr>\n",
       "      <th>0</th>\n",
       "      <td>892</td>\n",
       "      <td>0</td>\n",
       "    </tr>\n",
       "    <tr>\n",
       "      <th>1</th>\n",
       "      <td>893</td>\n",
       "      <td>0</td>\n",
       "    </tr>\n",
       "    <tr>\n",
       "      <th>2</th>\n",
       "      <td>894</td>\n",
       "      <td>0</td>\n",
       "    </tr>\n",
       "    <tr>\n",
       "      <th>3</th>\n",
       "      <td>895</td>\n",
       "      <td>0</td>\n",
       "    </tr>\n",
       "    <tr>\n",
       "      <th>4</th>\n",
       "      <td>896</td>\n",
       "      <td>1</td>\n",
       "    </tr>\n",
       "  </tbody>\n",
       "</table>\n",
       "</div>"
      ],
      "text/plain": [
       "   PassengerId  Survived\n",
       "0          892         0\n",
       "1          893         0\n",
       "2          894         0\n",
       "3          895         0\n",
       "4          896         1"
      ]
     },
     "execution_count": 44,
     "metadata": {},
     "output_type": "execute_result"
    }
   ],
   "source": [
    "check = pd.read_csv('submit_prediction.csv')\n",
    "check.head()"
   ]
  },
  {
   "cell_type": "code",
   "execution_count": null,
   "id": "604abd12-e15d-4c64-bea8-a43e782d89fc",
   "metadata": {},
   "outputs": [],
   "source": []
  }
 ],
 "metadata": {
  "kernelspec": {
   "display_name": "Python 3 (ipykernel)",
   "language": "python",
   "name": "python3"
  },
  "language_info": {
   "codemirror_mode": {
    "name": "ipython",
    "version": 3
   },
   "file_extension": ".py",
   "mimetype": "text/x-python",
   "name": "python",
   "nbconvert_exporter": "python",
   "pygments_lexer": "ipython3",
   "version": "3.9.7"
  },
  "toc-autonumbering": true,
  "toc-showmarkdowntxt": false,
  "toc-showtags": false
 },
 "nbformat": 4,
 "nbformat_minor": 5
}
